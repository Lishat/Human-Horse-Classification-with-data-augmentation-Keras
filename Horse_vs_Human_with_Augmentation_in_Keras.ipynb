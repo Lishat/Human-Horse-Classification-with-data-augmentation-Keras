{
  "nbformat": 4,
  "nbformat_minor": 0,
  "metadata": {
    "colab": {
      "name": "Horse vs Human with Augmentation in Keras.ipynb",
      "version": "0.3.2",
      "provenance": [],
      "include_colab_link": true
    },
    "kernelspec": {
      "name": "python3",
      "display_name": "Python 3"
    },
    "accelerator": "GPU"
  },
  "cells": [
    {
      "cell_type": "markdown",
      "metadata": {
        "id": "view-in-github",
        "colab_type": "text"
      },
      "source": [
        "<a href=\"https://colab.research.google.com/github/Lishat/Human-Horse-Classification-with-data-augmentation-Keras/blob/master/Horse_vs_Human_with_Augmentation_in_Keras.ipynb\" target=\"_parent\"><img src=\"https://colab.research.google.com/assets/colab-badge.svg\" alt=\"Open In Colab\"/></a>"
      ]
    },
    {
      "cell_type": "markdown",
      "metadata": {
        "id": "xtkgrzqZ8_sm",
        "colab_type": "text"
      },
      "source": [
        "###Loading Libraries"
      ]
    },
    {
      "cell_type": "code",
      "metadata": {
        "id": "NbBsV1K88etK",
        "colab_type": "code",
        "colab": {}
      },
      "source": [
        "import tensorflow as tf\n",
        "import os\n",
        "import zipfile"
      ],
      "execution_count": 0,
      "outputs": []
    },
    {
      "cell_type": "markdown",
      "metadata": {
        "id": "vDejr86W9EMk",
        "colab_type": "text"
      },
      "source": [
        "###Loading Horse vs Human Dataset"
      ]
    },
    {
      "cell_type": "code",
      "metadata": {
        "id": "OJ5Mid648yDN",
        "colab_type": "code",
        "colab": {
          "base_uri": "https://localhost:8080/",
          "height": 419
        },
        "outputId": "7eacb70b-076b-4681-c4bd-bc77fe624b5d"
      },
      "source": [
        "!wget --no-check-certificate \\\n",
        "    https://storage.googleapis.com/laurencemoroney-blog.appspot.com/horse-or-human.zip \\\n",
        "    -O /content/horse-or-human.zip\n",
        "\n",
        "!wget --no-check-certificate \\\n",
        "    https://storage.googleapis.com/laurencemoroney-blog.appspot.com/validation-horse-or-human.zip \\\n",
        "    -O /content/validation-horse-or-human.zip"
      ],
      "execution_count": 2,
      "outputs": [
        {
          "output_type": "stream",
          "text": [
            "--2019-05-27 06:21:51--  https://storage.googleapis.com/laurencemoroney-blog.appspot.com/horse-or-human.zip\n",
            "Resolving storage.googleapis.com (storage.googleapis.com)... 74.125.141.128, 2607:f8b0:400c:c06::80\n",
            "Connecting to storage.googleapis.com (storage.googleapis.com)|74.125.141.128|:443... connected.\n",
            "HTTP request sent, awaiting response... 200 OK\n",
            "Length: 149574867 (143M) [application/zip]\n",
            "Saving to: ‘/content/horse-or-human.zip’\n",
            "\n",
            "/content/horse-or-h 100%[===================>] 142.65M   110MB/s    in 1.3s    \n",
            "\n",
            "2019-05-27 06:21:52 (110 MB/s) - ‘/content/horse-or-human.zip’ saved [149574867/149574867]\n",
            "\n",
            "--2019-05-27 06:21:54--  https://storage.googleapis.com/laurencemoroney-blog.appspot.com/validation-horse-or-human.zip\n",
            "Resolving storage.googleapis.com (storage.googleapis.com)... 74.125.141.128, 2607:f8b0:400c:c06::80\n",
            "Connecting to storage.googleapis.com (storage.googleapis.com)|74.125.141.128|:443... connected.\n",
            "HTTP request sent, awaiting response... 200 OK\n",
            "Length: 11480187 (11M) [application/zip]\n",
            "Saving to: ‘/content/validation-horse-or-human.zip’\n",
            "\n",
            "/content/validation 100%[===================>]  10.95M  --.-KB/s    in 0.1s    \n",
            "\n",
            "2019-05-27 06:21:54 (96.5 MB/s) - ‘/content/validation-horse-or-human.zip’ saved [11480187/11480187]\n",
            "\n"
          ],
          "name": "stdout"
        }
      ]
    },
    {
      "cell_type": "markdown",
      "metadata": {
        "id": "-UFP9Fm19m_9",
        "colab_type": "text"
      },
      "source": [
        "###Extracting Zip files"
      ]
    },
    {
      "cell_type": "code",
      "metadata": {
        "id": "7tqFOE74876j",
        "colab_type": "code",
        "colab": {}
      },
      "source": [
        "local_zip = '/content/horse-or-human.zip'\n",
        "zip_ref = zipfile.ZipFile(local_zip, 'r')\n",
        "zip_ref.extractall('/content/horse-or-human')\n",
        "local_zip = '/content/validation-horse-or-human.zip'\n",
        "zip_ref = zipfile.ZipFile(local_zip, 'r')\n",
        "zip_ref.extractall('/content/validation-horse-or-human')\n",
        "zip_ref.close()"
      ],
      "execution_count": 0,
      "outputs": []
    },
    {
      "cell_type": "markdown",
      "metadata": {
        "id": "Ru6B9CGw--9D",
        "colab_type": "text"
      },
      "source": [
        "###Model Declaration"
      ]
    },
    {
      "cell_type": "code",
      "metadata": {
        "id": "x8jx_YFL9c0V",
        "colab_type": "code",
        "colab": {
          "base_uri": "https://localhost:8080/",
          "height": 89
        },
        "outputId": "f5604e63-1893-42ea-c70a-06dad6ab52f3"
      },
      "source": [
        "model = tf.keras.models.Sequential([\n",
        "    tf.keras.layers.Conv2D(16, (3,3), activation='relu', input_shape=(300, 300, 3)),\n",
        "    tf.keras.layers.MaxPooling2D(2, 2),\n",
        "    tf.keras.layers.Conv2D(32, (3,3), activation='relu'),\n",
        "    tf.keras.layers.MaxPooling2D(2,2),\n",
        "    tf.keras.layers.Conv2D(64, (3,3), activation='relu'),\n",
        "    tf.keras.layers.MaxPooling2D(2,2),\n",
        "    tf.keras.layers.Conv2D(64, (3,3), activation='relu'),\n",
        "    tf.keras.layers.MaxPooling2D(2,2),\n",
        "    tf.keras.layers.Conv2D(64, (3,3), activation='relu'),\n",
        "    tf.keras.layers.MaxPooling2D(2,2),\n",
        "    tf.keras.layers.Flatten(),\n",
        "    tf.keras.layers.Dense(512, activation='relu'),\n",
        "    tf.keras.layers.Dense(1, activation='sigmoid')])"
      ],
      "execution_count": 4,
      "outputs": [
        {
          "output_type": "stream",
          "text": [
            "WARNING:tensorflow:From /usr/local/lib/python3.6/dist-packages/tensorflow/python/ops/resource_variable_ops.py:435: colocate_with (from tensorflow.python.framework.ops) is deprecated and will be removed in a future version.\n",
            "Instructions for updating:\n",
            "Colocations handled automatically by placer.\n"
          ],
          "name": "stdout"
        }
      ]
    },
    {
      "cell_type": "markdown",
      "metadata": {
        "id": "H7vRjO7fCWzs",
        "colab_type": "text"
      },
      "source": [
        "### Defining Loss Function, Optimizer and Metrics"
      ]
    },
    {
      "cell_type": "code",
      "metadata": {
        "id": "U3tttAze_A8B",
        "colab_type": "code",
        "colab": {}
      },
      "source": [
        "from tensorflow.keras.optimizers import Adam\n",
        "model.compile(loss='binary_crossentropy',\n",
        "              optimizer=Adam(lr=1e-4),\n",
        "              metrics=['acc'])"
      ],
      "execution_count": 0,
      "outputs": []
    },
    {
      "cell_type": "markdown",
      "metadata": {
        "id": "IXScsbCSCaYC",
        "colab_type": "text"
      },
      "source": [
        "###Data Augmentation"
      ]
    },
    {
      "cell_type": "code",
      "metadata": {
        "id": "sv8wk2ef_Zo_",
        "colab_type": "code",
        "colab": {}
      },
      "source": [
        "from tensorflow.keras.preprocessing.image import ImageDataGenerator\n",
        "\n",
        "train_datagen = ImageDataGenerator(\n",
        "      rescale=1./255,\n",
        "      rotation_range=40,\n",
        "      width_shift_range=0.2,\n",
        "      height_shift_range=0.2,\n",
        "      shear_range=0.2,\n",
        "      zoom_range=0.2,\n",
        "      horizontal_flip=True,\n",
        "      fill_mode='nearest')\n",
        "\n",
        "validation_datagen = ImageDataGenerator(rescale=1/255)\n",
        "\n",
        "train_generator = train_datagen.flow_from_directory(\n",
        "        '/content/horse-or-human/', \n",
        "        target_size=(300, 300),  \n",
        "        batch_size=128,\n",
        "        class_mode='binary')\n",
        "\n",
        "validation_generator = validation_datagen.flow_from_directory(\n",
        "        '/content/validation-horse-or-human/',  \n",
        "        target_size=(300, 300),  \n",
        "        batch_size=32,\n",
        "        class_mode='binary')"
      ],
      "execution_count": 0,
      "outputs": []
    },
    {
      "cell_type": "code",
      "metadata": {
        "id": "AGLElQS1Ar8G",
        "colab_type": "code",
        "colab": {
          "base_uri": "https://localhost:8080/",
          "height": 4804
        },
        "outputId": "3263b27f-8335-4a61-98b3-9e4e60628ba1"
      },
      "source": [
        "history = model.fit_generator(\n",
        "      train_generator,\n",
        "      steps_per_epoch=8,  \n",
        "      epochs=100,\n",
        "      verbose=1,\n",
        "      validation_data = validation_generator,\n",
        "      validation_steps=8)"
      ],
      "execution_count": 0,
      "outputs": [
        {
          "output_type": "stream",
          "text": [
            "WARNING:tensorflow:From /usr/local/lib/python3.6/dist-packages/tensorflow/python/ops/math_ops.py:3066: to_int32 (from tensorflow.python.ops.math_ops) is deprecated and will be removed in a future version.\n",
            "Instructions for updating:\n",
            "Use tf.cast instead.\n",
            "Epoch 1/100\n",
            "8/8 [==============================] - 2s 225ms/step - loss: 0.6829 - acc: 0.5000\n",
            "9/9 [==============================] - 33s 4s/step - loss: 0.6844 - acc: 0.5307 - val_loss: 0.6829 - val_acc: 0.5000\n",
            "Epoch 2/100\n",
            "8/8 [==============================] - 2s 210ms/step - loss: 0.7029 - acc: 0.5000\n",
            "9/9 [==============================] - 29s 3s/step - loss: 0.6675 - acc: 0.6173 - val_loss: 0.7029 - val_acc: 0.5000\n",
            "Epoch 3/100\n",
            "8/8 [==============================] - 2s 203ms/step - loss: 0.6516 - acc: 0.5156\n",
            "9/9 [==============================] - 27s 3s/step - loss: 0.6533 - acc: 0.6290 - val_loss: 0.6516 - val_acc: 0.5156\n",
            "Epoch 4/100\n",
            "8/8 [==============================] - 2s 206ms/step - loss: 0.6216 - acc: 0.9258\n",
            "9/9 [==============================] - 27s 3s/step - loss: 0.6153 - acc: 0.6719 - val_loss: 0.6216 - val_acc: 0.9258\n",
            "Epoch 5/100\n",
            "8/8 [==============================] - 2s 199ms/step - loss: 0.6690 - acc: 0.5000\n",
            "9/9 [==============================] - 27s 3s/step - loss: 0.6283 - acc: 0.6543 - val_loss: 0.6690 - val_acc: 0.5000\n",
            "Epoch 6/100\n",
            "8/8 [==============================] - 2s 202ms/step - loss: 0.6808 - acc: 0.5000\n",
            "9/9 [==============================] - 27s 3s/step - loss: 0.5769 - acc: 0.6943 - val_loss: 0.6808 - val_acc: 0.5000\n",
            "Epoch 7/100\n",
            "8/8 [==============================] - 2s 205ms/step - loss: 0.6871 - acc: 0.5039\n",
            "9/9 [==============================] - 27s 3s/step - loss: 0.5517 - acc: 0.7215 - val_loss: 0.6871 - val_acc: 0.5039\n",
            "Epoch 8/100\n",
            "8/8 [==============================] - 2s 207ms/step - loss: 0.5881 - acc: 0.5977\n",
            "9/9 [==============================] - 27s 3s/step - loss: 0.5452 - acc: 0.7264 - val_loss: 0.5881 - val_acc: 0.5977\n",
            "Epoch 9/100\n",
            "8/8 [==============================] - 2s 198ms/step - loss: 1.1008 - acc: 0.5000\n",
            "9/9 [==============================] - 27s 3s/step - loss: 0.5006 - acc: 0.7517 - val_loss: 1.1008 - val_acc: 0.5000\n",
            "Epoch 10/100\n",
            "8/8 [==============================] - 2s 200ms/step - loss: 0.6535 - acc: 0.5820\n",
            "9/9 [==============================] - 28s 3s/step - loss: 0.5323 - acc: 0.7147 - val_loss: 0.6535 - val_acc: 0.5820\n",
            "Epoch 11/100\n",
            "8/8 [==============================] - 2s 199ms/step - loss: 0.6533 - acc: 0.5977\n",
            "9/9 [==============================] - 28s 3s/step - loss: 0.5324 - acc: 0.7390 - val_loss: 0.6533 - val_acc: 0.5977\n",
            "Epoch 12/100\n",
            "8/8 [==============================] - 2s 202ms/step - loss: 0.8922 - acc: 0.5273\n",
            "9/9 [==============================] - 28s 3s/step - loss: 0.4866 - acc: 0.7907 - val_loss: 0.8922 - val_acc: 0.5273\n",
            "Epoch 13/100\n",
            "8/8 [==============================] - 2s 199ms/step - loss: 0.8482 - acc: 0.5938\n",
            "9/9 [==============================] - 28s 3s/step - loss: 0.4768 - acc: 0.7605 - val_loss: 0.8482 - val_acc: 0.5938\n",
            "Epoch 14/100\n",
            "8/8 [==============================] - 2s 203ms/step - loss: 1.1157 - acc: 0.5664\n",
            "9/9 [==============================] - 28s 3s/step - loss: 0.4290 - acc: 0.8062 - val_loss: 1.1157 - val_acc: 0.5664\n",
            "Epoch 15/100\n",
            "8/8 [==============================] - 2s 201ms/step - loss: 0.6057 - acc: 0.7109\n",
            "9/9 [==============================] - 27s 3s/step - loss: 0.4154 - acc: 0.7975 - val_loss: 0.6057 - val_acc: 0.7109\n",
            "Epoch 16/100\n",
            "8/8 [==============================] - 2s 203ms/step - loss: 1.1513 - acc: 0.5703\n",
            "9/9 [==============================] - 28s 3s/step - loss: 0.4484 - acc: 0.8072 - val_loss: 1.1513 - val_acc: 0.5703\n",
            "Epoch 17/100\n",
            "8/8 [==============================] - 2s 204ms/step - loss: 1.2729 - acc: 0.5742\n",
            "9/9 [==============================] - 27s 3s/step - loss: 0.4155 - acc: 0.8101 - val_loss: 1.2729 - val_acc: 0.5742\n",
            "Epoch 18/100\n",
            "8/8 [==============================] - 2s 212ms/step - loss: 1.0446 - acc: 0.6523\n",
            "9/9 [==============================] - 27s 3s/step - loss: 0.4042 - acc: 0.8160 - val_loss: 1.0446 - val_acc: 0.6523\n",
            "Epoch 19/100\n",
            "8/8 [==============================] - 2s 203ms/step - loss: 1.5128 - acc: 0.5781\n",
            "9/9 [==============================] - 27s 3s/step - loss: 0.4041 - acc: 0.8160 - val_loss: 1.5128 - val_acc: 0.5781\n",
            "Epoch 20/100\n",
            "8/8 [==============================] - 2s 205ms/step - loss: 1.5477 - acc: 0.5664\n",
            "9/9 [==============================] - 27s 3s/step - loss: 0.3832 - acc: 0.8345 - val_loss: 1.5477 - val_acc: 0.5664\n",
            "Epoch 21/100\n",
            "8/8 [==============================] - 2s 202ms/step - loss: 1.4313 - acc: 0.5859\n",
            "9/9 [==============================] - 28s 3s/step - loss: 0.3274 - acc: 0.8666 - val_loss: 1.4313 - val_acc: 0.5859\n",
            "Epoch 22/100\n",
            "8/8 [==============================] - 2s 201ms/step - loss: 1.7793 - acc: 0.5703\n",
            "9/9 [==============================] - 28s 3s/step - loss: 0.3151 - acc: 0.8549 - val_loss: 1.7793 - val_acc: 0.5703\n",
            "Epoch 23/100\n",
            "8/8 [==============================] - 2s 198ms/step - loss: 1.2526 - acc: 0.6758\n",
            "9/9 [==============================] - 28s 3s/step - loss: 0.2916 - acc: 0.8754 - val_loss: 1.2526 - val_acc: 0.6758\n",
            "Epoch 24/100\n",
            "8/8 [==============================] - 2s 204ms/step - loss: 1.0421 - acc: 0.6641\n",
            "9/9 [==============================] - 27s 3s/step - loss: 0.3460 - acc: 0.8462 - val_loss: 1.0421 - val_acc: 0.6641\n",
            "Epoch 25/100\n",
            "8/8 [==============================] - 2s 205ms/step - loss: 2.0248 - acc: 0.5391\n",
            "9/9 [==============================] - 28s 3s/step - loss: 0.2990 - acc: 0.8569 - val_loss: 2.0248 - val_acc: 0.5391\n",
            "Epoch 26/100\n",
            "8/8 [==============================] - 2s 201ms/step - loss: 2.0839 - acc: 0.5742\n",
            "9/9 [==============================] - 28s 3s/step - loss: 0.2652 - acc: 0.8900 - val_loss: 2.0839 - val_acc: 0.5742\n",
            "Epoch 27/100\n",
            "8/8 [==============================] - 2s 210ms/step - loss: 2.0292 - acc: 0.5742\n",
            "9/9 [==============================] - 28s 3s/step - loss: 0.2431 - acc: 0.8939 - val_loss: 2.0292 - val_acc: 0.5742\n",
            "Epoch 28/100\n",
            "8/8 [==============================] - 2s 209ms/step - loss: 2.3062 - acc: 0.5273\n",
            "9/9 [==============================] - 27s 3s/step - loss: 0.3670 - acc: 0.8763 - val_loss: 2.3062 - val_acc: 0.5273\n",
            "Epoch 29/100\n",
            "8/8 [==============================] - 2s 202ms/step - loss: 1.5565 - acc: 0.5898\n",
            "9/9 [==============================] - 27s 3s/step - loss: 0.2533 - acc: 0.8734 - val_loss: 1.5565 - val_acc: 0.5898\n",
            "Epoch 30/100\n",
            "8/8 [==============================] - 2s 201ms/step - loss: 2.3419 - acc: 0.5156\n",
            "9/9 [==============================] - 27s 3s/step - loss: 0.2365 - acc: 0.8880 - val_loss: 2.3419 - val_acc: 0.5156\n",
            "Epoch 31/100\n",
            "8/8 [==============================] - 2s 204ms/step - loss: 2.0822 - acc: 0.5703\n",
            "9/9 [==============================] - 28s 3s/step - loss: 0.2297 - acc: 0.9065 - val_loss: 2.0822 - val_acc: 0.5703\n",
            "Epoch 32/100\n",
            "8/8 [==============================] - 2s 201ms/step - loss: 1.8521 - acc: 0.6055\n",
            "9/9 [==============================] - 28s 3s/step - loss: 0.2143 - acc: 0.9202 - val_loss: 1.8521 - val_acc: 0.6055\n",
            "Epoch 33/100\n",
            "8/8 [==============================] - 2s 198ms/step - loss: 3.2099 - acc: 0.5195\n",
            "9/9 [==============================] - 27s 3s/step - loss: 0.2019 - acc: 0.9260 - val_loss: 3.2099 - val_acc: 0.5195\n",
            "Epoch 34/100\n",
            "8/8 [==============================] - 2s 200ms/step - loss: 1.8856 - acc: 0.6211\n",
            "9/9 [==============================] - 28s 3s/step - loss: 0.2032 - acc: 0.9114 - val_loss: 1.8856 - val_acc: 0.6211\n",
            "Epoch 35/100\n",
            "8/8 [==============================] - 2s 204ms/step - loss: 2.2479 - acc: 0.5859\n",
            "9/9 [==============================] - 28s 3s/step - loss: 0.2048 - acc: 0.9085 - val_loss: 2.2479 - val_acc: 0.5859\n",
            "Epoch 36/100\n",
            "8/8 [==============================] - 2s 208ms/step - loss: 2.2121 - acc: 0.5898\n",
            "9/9 [==============================] - 27s 3s/step - loss: 0.2879 - acc: 0.9348 - val_loss: 2.2121 - val_acc: 0.5898\n",
            "Epoch 37/100\n",
            "8/8 [==============================] - 2s 198ms/step - loss: 2.4982 - acc: 0.5547\n",
            "9/9 [==============================] - 27s 3s/step - loss: 0.2255 - acc: 0.9085 - val_loss: 2.4982 - val_acc: 0.5547\n",
            "Epoch 38/100\n",
            "8/8 [==============================] - 2s 196ms/step - loss: 2.3051 - acc: 0.5195\n",
            "9/9 [==============================] - 28s 3s/step - loss: 0.2026 - acc: 0.8987 - val_loss: 2.3051 - val_acc: 0.5195\n",
            "Epoch 39/100\n",
            "8/8 [==============================] - 2s 206ms/step - loss: 2.8203 - acc: 0.5352\n",
            "9/9 [==============================] - 28s 3s/step - loss: 0.2381 - acc: 0.9143 - val_loss: 2.8203 - val_acc: 0.5352\n",
            "Epoch 40/100\n",
            "8/8 [==============================] - 2s 199ms/step - loss: 3.1272 - acc: 0.5391\n",
            "9/9 [==============================] - 28s 3s/step - loss: 0.1689 - acc: 0.9279 - val_loss: 3.1272 - val_acc: 0.5391\n",
            "Epoch 41/100\n",
            "8/8 [==============================] - 2s 202ms/step - loss: 2.1659 - acc: 0.5820\n",
            "9/9 [==============================] - 28s 3s/step - loss: 0.1527 - acc: 0.9328 - val_loss: 2.1659 - val_acc: 0.5820\n",
            "Epoch 42/100\n",
            "8/8 [==============================] - 2s 203ms/step - loss: 2.8236 - acc: 0.5547\n",
            "9/9 [==============================] - 28s 3s/step - loss: 0.1431 - acc: 0.9435 - val_loss: 2.8236 - val_acc: 0.5547\n",
            "Epoch 43/100\n",
            "8/8 [==============================] - 2s 207ms/step - loss: 3.7245 - acc: 0.5234\n",
            "9/9 [==============================] - 28s 3s/step - loss: 0.1683 - acc: 0.9455 - val_loss: 3.7245 - val_acc: 0.5234\n",
            "Epoch 44/100\n",
            "8/8 [==============================] - 2s 207ms/step - loss: 1.8767 - acc: 0.6016\n",
            "9/9 [==============================] - 28s 3s/step - loss: 0.2217 - acc: 0.9094 - val_loss: 1.8767 - val_acc: 0.6016\n",
            "Epoch 45/100\n",
            "8/8 [==============================] - 2s 207ms/step - loss: 2.4325 - acc: 0.5898\n",
            "9/9 [==============================] - 28s 3s/step - loss: 0.1857 - acc: 0.9377 - val_loss: 2.4325 - val_acc: 0.5898\n",
            "Epoch 46/100\n",
            "8/8 [==============================] - 2s 206ms/step - loss: 3.4472 - acc: 0.5586\n",
            "9/9 [==============================] - 28s 3s/step - loss: 0.1318 - acc: 0.9455 - val_loss: 3.4472 - val_acc: 0.5586\n",
            "Epoch 47/100\n",
            "8/8 [==============================] - 2s 205ms/step - loss: 2.4430 - acc: 0.6289\n",
            "9/9 [==============================] - 28s 3s/step - loss: 0.1214 - acc: 0.9542 - val_loss: 2.4430 - val_acc: 0.6289\n",
            "Epoch 48/100\n",
            "8/8 [==============================] - 2s 202ms/step - loss: 2.4079 - acc: 0.6289\n",
            "9/9 [==============================] - 27s 3s/step - loss: 0.1456 - acc: 0.9435 - val_loss: 2.4079 - val_acc: 0.6289\n",
            "Epoch 49/100\n",
            "8/8 [==============================] - 2s 206ms/step - loss: 3.4359 - acc: 0.5703\n",
            "9/9 [==============================] - 27s 3s/step - loss: 0.1441 - acc: 0.9396 - val_loss: 3.4359 - val_acc: 0.5703\n",
            "Epoch 50/100\n",
            "8/8 [==============================] - 2s 204ms/step - loss: 3.0020 - acc: 0.5859\n",
            "9/9 [==============================] - 28s 3s/step - loss: 0.1360 - acc: 0.9435 - val_loss: 3.0020 - val_acc: 0.5859\n",
            "Epoch 51/100\n",
            "8/8 [==============================] - 2s 202ms/step - loss: 3.0894 - acc: 0.5742\n",
            "9/9 [==============================] - 27s 3s/step - loss: 0.1405 - acc: 0.9387 - val_loss: 3.0894 - val_acc: 0.5742\n",
            "Epoch 52/100\n",
            "8/8 [==============================] - 2s 200ms/step - loss: 2.1114 - acc: 0.6289\n",
            "9/9 [==============================] - 27s 3s/step - loss: 0.1515 - acc: 0.9387 - val_loss: 2.1114 - val_acc: 0.6289\n",
            "Epoch 53/100\n",
            "8/8 [==============================] - 2s 198ms/step - loss: 3.5497 - acc: 0.5586\n",
            "9/9 [==============================] - 27s 3s/step - loss: 0.1254 - acc: 0.9542 - val_loss: 3.5497 - val_acc: 0.5586\n",
            "Epoch 54/100\n",
            "8/8 [==============================] - 2s 209ms/step - loss: 3.5436 - acc: 0.5430\n",
            "9/9 [==============================] - 28s 3s/step - loss: 0.1075 - acc: 0.9572 - val_loss: 3.5436 - val_acc: 0.5430\n",
            "Epoch 55/100\n",
            "8/8 [==============================] - 2s 202ms/step - loss: 2.4448 - acc: 0.6367\n",
            "9/9 [==============================] - 28s 3s/step - loss: 0.1428 - acc: 0.9523 - val_loss: 2.4448 - val_acc: 0.6367\n",
            "Epoch 56/100\n",
            "8/8 [==============================] - 2s 201ms/step - loss: 3.5223 - acc: 0.5977\n",
            "9/9 [==============================] - 27s 3s/step - loss: 0.1532 - acc: 0.9455 - val_loss: 3.5223 - val_acc: 0.5977\n",
            "Epoch 57/100\n",
            "8/8 [==============================] - 2s 197ms/step - loss: 4.0053 - acc: 0.5430\n",
            "9/9 [==============================] - 27s 3s/step - loss: 0.1523 - acc: 0.9396 - val_loss: 4.0053 - val_acc: 0.5430\n",
            "Epoch 58/100\n",
            "8/8 [==============================] - 2s 204ms/step - loss: 2.2923 - acc: 0.6289\n",
            "9/9 [==============================] - 27s 3s/step - loss: 0.1320 - acc: 0.9494 - val_loss: 2.2923 - val_acc: 0.6289\n",
            "Epoch 59/100\n",
            "8/8 [==============================] - 2s 201ms/step - loss: 3.3492 - acc: 0.5938\n",
            "9/9 [==============================] - 27s 3s/step - loss: 0.1135 - acc: 0.9581 - val_loss: 3.3492 - val_acc: 0.5938\n",
            "Epoch 60/100\n",
            "8/8 [==============================] - 2s 202ms/step - loss: 4.0356 - acc: 0.5703\n",
            "9/9 [==============================] - 28s 3s/step - loss: 0.1066 - acc: 0.9630 - val_loss: 4.0356 - val_acc: 0.5703\n",
            "Epoch 61/100\n",
            "8/8 [==============================] - 2s 197ms/step - loss: 2.1073 - acc: 0.6406\n",
            "9/9 [==============================] - 27s 3s/step - loss: 0.1546 - acc: 0.9474 - val_loss: 2.1073 - val_acc: 0.6406\n",
            "Epoch 62/100\n",
            "8/8 [==============================] - 2s 202ms/step - loss: 3.8424 - acc: 0.5586\n",
            "9/9 [==============================] - 27s 3s/step - loss: 0.1212 - acc: 0.9474 - val_loss: 3.8424 - val_acc: 0.5586\n",
            "Epoch 63/100\n",
            "8/8 [==============================] - 2s 206ms/step - loss: 3.9231 - acc: 0.5547\n",
            "9/9 [==============================] - 27s 3s/step - loss: 0.0961 - acc: 0.9533 - val_loss: 3.9231 - val_acc: 0.5547\n",
            "Epoch 64/100\n",
            "8/8 [==============================] - 2s 201ms/step - loss: 3.6915 - acc: 0.5781\n",
            "9/9 [==============================] - 28s 3s/step - loss: 0.1019 - acc: 0.9552 - val_loss: 3.6915 - val_acc: 0.5781\n",
            "Epoch 65/100\n",
            "8/8 [==============================] - 2s 203ms/step - loss: 3.3611 - acc: 0.6094\n",
            "9/9 [==============================] - 27s 3s/step - loss: 0.0881 - acc: 0.9688 - val_loss: 3.3611 - val_acc: 0.6094\n",
            "Epoch 66/100\n",
            "8/8 [==============================] - 2s 201ms/step - loss: 3.0371 - acc: 0.6133\n",
            "9/9 [==============================] - 27s 3s/step - loss: 0.1208 - acc: 0.9523 - val_loss: 3.0371 - val_acc: 0.6133\n",
            "Epoch 67/100\n",
            "8/8 [==============================] - 2s 204ms/step - loss: 3.7702 - acc: 0.5820\n",
            "9/9 [==============================] - 27s 3s/step - loss: 0.0876 - acc: 0.9718 - val_loss: 3.7702 - val_acc: 0.5820\n",
            "Epoch 68/100\n",
            "8/8 [==============================] - 2s 201ms/step - loss: 3.6902 - acc: 0.5859\n",
            "9/9 [==============================] - 27s 3s/step - loss: 0.0985 - acc: 0.9581 - val_loss: 3.6902 - val_acc: 0.5859\n",
            "Epoch 69/100\n",
            "8/8 [==============================] - 2s 201ms/step - loss: 3.9256 - acc: 0.5781\n",
            "9/9 [==============================] - 28s 3s/step - loss: 0.0651 - acc: 0.9757 - val_loss: 3.9256 - val_acc: 0.5781\n",
            "Epoch 70/100\n",
            "8/8 [==============================] - 2s 199ms/step - loss: 3.6651 - acc: 0.5820\n",
            "9/9 [==============================] - 27s 3s/step - loss: 0.0756 - acc: 0.9718 - val_loss: 3.6651 - val_acc: 0.5820\n",
            "Epoch 71/100\n",
            "8/8 [==============================] - 2s 208ms/step - loss: 3.5316 - acc: 0.5859\n",
            "9/9 [==============================] - 28s 3s/step - loss: 0.0802 - acc: 0.9708 - val_loss: 3.5316 - val_acc: 0.5859\n",
            "Epoch 72/100\n",
            "8/8 [==============================] - 2s 206ms/step - loss: 3.5429 - acc: 0.5859\n",
            "9/9 [==============================] - 28s 3s/step - loss: 0.0732 - acc: 0.9727 - val_loss: 3.5429 - val_acc: 0.5859\n",
            "Epoch 73/100\n",
            "8/8 [==============================] - 2s 207ms/step - loss: 3.0289 - acc: 0.6172\n",
            "9/9 [==============================] - 29s 3s/step - loss: 0.0690 - acc: 0.9757 - val_loss: 3.0289 - val_acc: 0.6172\n",
            "Epoch 74/100\n",
            "8/8 [==============================] - 2s 205ms/step - loss: 4.5284 - acc: 0.5547\n",
            "9/9 [==============================] - 29s 3s/step - loss: 0.0770 - acc: 0.9776 - val_loss: 4.5284 - val_acc: 0.5547\n",
            "Epoch 75/100\n",
            "8/8 [==============================] - 2s 213ms/step - loss: 3.5443 - acc: 0.5938\n",
            "9/9 [==============================] - 29s 3s/step - loss: 0.0803 - acc: 0.9698 - val_loss: 3.5443 - val_acc: 0.5938\n",
            "Epoch 76/100\n",
            "8/8 [==============================] - 2s 209ms/step - loss: 3.8362 - acc: 0.5820\n",
            "9/9 [==============================] - 29s 3s/step - loss: 0.0620 - acc: 0.9747 - val_loss: 3.8362 - val_acc: 0.5820\n",
            "Epoch 77/100\n",
            "8/8 [==============================] - 2s 205ms/step - loss: 4.2664 - acc: 0.5703\n",
            "9/9 [==============================] - 28s 3s/step - loss: 0.0601 - acc: 0.9757 - val_loss: 4.2664 - val_acc: 0.5703\n",
            "Epoch 78/100\n",
            "8/8 [==============================] - 2s 203ms/step - loss: 4.2739 - acc: 0.5508\n",
            "9/9 [==============================] - 29s 3s/step - loss: 0.0975 - acc: 0.9630 - val_loss: 4.2739 - val_acc: 0.5508\n",
            "Epoch 79/100\n",
            "8/8 [==============================] - 2s 207ms/step - loss: 5.2037 - acc: 0.5078\n",
            "9/9 [==============================] - 29s 3s/step - loss: 0.2118 - acc: 0.9416 - val_loss: 5.2037 - val_acc: 0.5078\n",
            "Epoch 80/100\n",
            "8/8 [==============================] - 2s 210ms/step - loss: 2.4274 - acc: 0.6094\n",
            "9/9 [==============================] - 29s 3s/step - loss: 0.2674 - acc: 0.9075 - val_loss: 2.4274 - val_acc: 0.6094\n",
            "Epoch 81/100\n",
            "8/8 [==============================] - 2s 209ms/step - loss: 2.1282 - acc: 0.6641\n",
            "9/9 [==============================] - 28s 3s/step - loss: 0.1304 - acc: 0.9455 - val_loss: 2.1282 - val_acc: 0.6641\n",
            "Epoch 82/100\n",
            "8/8 [==============================] - 2s 207ms/step - loss: 4.0143 - acc: 0.5703\n",
            "9/9 [==============================] - 29s 3s/step - loss: 0.1072 - acc: 0.9542 - val_loss: 4.0143 - val_acc: 0.5703\n",
            "Epoch 83/100\n",
            "8/8 [==============================] - 2s 201ms/step - loss: 3.1865 - acc: 0.6016\n",
            "9/9 [==============================] - 29s 3s/step - loss: 0.0984 - acc: 0.9581 - val_loss: 3.1865 - val_acc: 0.6016\n",
            "Epoch 84/100\n",
            "8/8 [==============================] - 2s 209ms/step - loss: 3.7225 - acc: 0.5820\n",
            "9/9 [==============================] - 29s 3s/step - loss: 0.1109 - acc: 0.9611 - val_loss: 3.7225 - val_acc: 0.5820\n",
            "Epoch 85/100\n",
            "8/8 [==============================] - 2s 201ms/step - loss: 3.2586 - acc: 0.5938\n",
            "9/9 [==============================] - 28s 3s/step - loss: 0.0986 - acc: 0.9659 - val_loss: 3.2586 - val_acc: 0.5938\n",
            "Epoch 86/100\n",
            "8/8 [==============================] - 2s 206ms/step - loss: 4.2426 - acc: 0.5625\n",
            "9/9 [==============================] - 29s 3s/step - loss: 0.0776 - acc: 0.9737 - val_loss: 4.2426 - val_acc: 0.5625\n",
            "Epoch 87/100\n",
            "8/8 [==============================] - 2s 211ms/step - loss: 4.1987 - acc: 0.5781\n",
            "9/9 [==============================] - 29s 3s/step - loss: 0.0725 - acc: 0.9708 - val_loss: 4.1987 - val_acc: 0.5781\n",
            "Epoch 88/100\n",
            "8/8 [==============================] - 2s 207ms/step - loss: 4.2623 - acc: 0.5781\n",
            "9/9 [==============================] - 29s 3s/step - loss: 0.0614 - acc: 0.9766 - val_loss: 4.2623 - val_acc: 0.5781\n",
            "Epoch 89/100\n",
            "8/8 [==============================] - 2s 207ms/step - loss: 5.0691 - acc: 0.5430\n",
            "9/9 [==============================] - 29s 3s/step - loss: 0.1513 - acc: 0.9328 - val_loss: 5.0691 - val_acc: 0.5430\n",
            "Epoch 90/100\n",
            "8/8 [==============================] - 2s 211ms/step - loss: 2.6929 - acc: 0.6328\n",
            "9/9 [==============================] - 29s 3s/step - loss: 0.1060 - acc: 0.9649 - val_loss: 2.6929 - val_acc: 0.6328\n",
            "Epoch 91/100\n",
            "6/9 [===================>..........] - ETA: 8s - loss: 0.0905 - acc: 0.9642 "
          ],
          "name": "stdout"
        }
      ]
    },
    {
      "cell_type": "code",
      "metadata": {
        "id": "hiBvP9KTBOOg",
        "colab_type": "code",
        "colab": {}
      },
      "source": [
        ""
      ],
      "execution_count": 0,
      "outputs": []
    }
  ]
}